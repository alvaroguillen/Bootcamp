{
 "cells": [
  {
   "cell_type": "markdown",
   "id": "c7eca028",
   "metadata": {},
   "source": [
    "Challenge 1 🤺\n",
    "\n",
    "Escribir un programa que cree un diccionario vacío y lo vaya llenado con información sobre una persona (por ejemplo nombre, edad, sexo, teléfono, correo electrónico, etc.) que se le pida al usuario. Cada vez que se añada un nuevo dato debe imprimirse el contenido del diccionario."
   ]
  },
  {
   "cell_type": "code",
   "execution_count": 7,
   "id": "1fc80741",
   "metadata": {},
   "outputs": [
    {
     "name": "stdout",
     "output_type": "stream",
     "text": [
      "{'nombre': 'juna'}\n",
      "{'nombre': 'juna', 'edad': 21}\n",
      "{'nombre': 'juna', 'edad': 21, 'sexo': 'm'}\n",
      "{'nombre': 'juna', 'edad': 21, 'sexo': 'm', 'telefono': 98543223}\n",
      "{'nombre': 'juna', 'edad': 21, 'sexo': 'm', 'telefono': 98543223, 'correo': 'juanperez@gmail.com'}\n"
     ]
    }
   ],
   "source": [
    "persona = {}\n",
    "\n",
    "persona['nombre'] = input('Agregue un nombre:')\n",
    "print(persona)\n",
    "\n",
    "persona['edad'] = int(input('Agregue una edad:'))\n",
    "print(persona)\n",
    "\n",
    "persona['sexo'] = input('Agregue sexo:')\n",
    "print(persona)\n",
    "\n",
    "persona['telefono'] = int(input('Agregue un telefono:'))\n",
    "print(persona)\n",
    "\n",
    "persona['correo'] = input('Agregue un correo:')\n",
    "print(persona)"
   ]
  },
  {
   "cell_type": "code",
   "execution_count": 11,
   "id": "660054c3",
   "metadata": {},
   "outputs": [
    {
     "data": {
      "text/plain": [
       "dict_values(['juan', 'perez', '23'])"
      ]
     },
     "execution_count": 11,
     "metadata": {},
     "output_type": "execute_result"
    }
   ],
   "source": [
    "campos = ['nombre','apellido','edad']\n",
    "datos_personales = {}\n",
    "\n",
    "for campo in campos:\n",
    "    datos_personales[campo] = input(f'Ingrese {campo}')\n",
    "\n",
    "datos_personales.values()    "
   ]
  },
  {
   "cell_type": "markdown",
   "id": "083628b1",
   "metadata": {},
   "source": [
    "Challenge 2 🤺\n",
    "\n",
    "Crear una tarjeta personal. El usuario (mediante input) puede elegir:\n",
    "\n",
    "Crear datos nuevos\n",
    "\n",
    "Modificar datos\n",
    "\n",
    "Eliminar datos"
   ]
  },
  {
   "cell_type": "code",
   "execution_count": null,
   "id": "a5d2a127",
   "metadata": {},
   "outputs": [],
   "source": [
    "tarjeta_personal = {}\n",
    "while True:\n",
    "    print('Que accion desea realizar en el diccionario:\\n 1 Nuevo Dato\\n 2 Modificar\\n 3 Eliminar\\n 4 Salir')\n",
    "    accion = input(\"Accion a realizar:\")\n",
    "    if accion == '1':\n",
    "        clave = input(\"Ingrese la clave\")\n",
    "        valor = input(\"Ingrese el valor\")\n",
    "        tarjeta_personal[clave] = valor \n",
    "        print(tarjeta_personal)\n",
    "\n",
    "    elif accion == '2':\n",
    "        tarjeta_personal.keys()\n",
    "        clave = input(\"Ingrese la clave\")\n",
    "        valor = input(\"Ingrese el valor\")\n",
    "        tarjeta_personal[clave] = valor \n",
    "        print(tarjeta_personal)\n",
    "    elif accion == '3':\n",
    "        tarjeta_personal.keys()\n",
    "        print(\"Ingrese la clave\") \n",
    "        del tarjeta_personal[clave]  \n",
    "\n",
    "    elif accion == '4':\n",
    "        break        \n",
    "    else:\n",
    "       print(\"La opcion ingresada no es valida, proporcione otro valor\") "
   ]
  },
  {
   "cell_type": "markdown",
   "id": "01f5b7cb",
   "metadata": {},
   "source": [
    "Challenge 3 🤺\n",
    "\n",
    "Crear una agenda de contactos. El usuario puede elegir:\n",
    "\n",
    "Mostrar los contactos\n",
    "\n",
    "Crear contacto\n",
    "\n",
    "Modificar datos del contacto"
   ]
  },
  {
   "cell_type": "code",
   "execution_count": 21,
   "id": "e098d41a",
   "metadata": {},
   "outputs": [
    {
     "name": "stdout",
     "output_type": "stream",
     "text": [
      "{'contacto1': {'nombre': 'Gabriel', 'apellido': 'Gonzales', 'numero': 887946}, 'contacto2': {'nombre': 'juan', 'apellido': 'perez', 'numero': 7946}, 'contacto3': {'nombre': 'jose', 'apellido': 'mareco', 'numero': 946}}\n"
     ]
    }
   ],
   "source": [
    "gabriel = {'nombre':'Gabriel',\n",
    "           'apellido':'Gonzales',\n",
    "           'numero':887946}\n",
    "juan = {'nombre':'juan',\n",
    "           'apellido':'perez',\n",
    "           'numero':7946}\n",
    "jose = {'nombre':'jose',\n",
    "           'apellido':'mareco',\n",
    "           'numero':946}\n",
    "\n",
    "contacto1 = gabriel\n",
    "contacto2 = juan\n",
    "contacto3 = jose\n",
    "\n",
    "agenda_contactos = {\n",
    "    'contacto1' : contacto1,\n",
    "    'contacto2' : contacto2,\n",
    "    'contacto3' : contacto3,    \n",
    "}\n",
    "\n",
    "print(agenda_contactos)\n"
   ]
  },
  {
   "cell_type": "code",
   "execution_count": null,
   "id": "edd3d3fa",
   "metadata": {},
   "outputs": [],
   "source": [
    "agenda_contactos = {}\n",
    "\n",
    "while True:\n",
    "    datos = {}\n",
    "    print(\"Elija una opcion numerica:\")\n",
    "    print(\"Opcion 1: Mostrar contactos\")\n",
    "    print(\"Opcion 2: Crear contactos\")\n",
    "    print(\"Opcion 3: Modificar datos de contacto\")\n",
    "    print(\"Opcion 4: Salir \\n\")\n",
    "    opcion = (input(\"Ingrese el numero de la opcion:\"))\n",
    "\n",
    "    if opcion == \"1\":\n",
    "        print(\"Datos de contactos\")\n",
    "        print(f\" {agenda_contactos} \\n\")\n",
    "\n",
    "    elif opcion == \"2\":\n",
    "        print(\"Creando contacto\")\n",
    "        nombre = input(\"Ingrese nombre del contacto\")\n",
    "        llave = input(\"Ingrese una clave del contacto\")\n",
    "        valor = input(\"Ingrese un valor a la clave\")\n",
    "        datos[llave] =  valor\n",
    "        agenda_contactos[nombre] = datos\n",
    "        print(f\"creado el contacto {nombre} con la clave {llave} y el valor {valor}\\n\")\n",
    "\n",
    "\n",
    "    elif opcion == \"3\":\n",
    "        print(\"Modificando datos de contacto\")\n",
    "        print(agenda_contactos.keys())\n",
    "        nombre = input(\"Ingrese nombre del contacto que desea modificar\")\n",
    "        llave = input(\"Ingrese una clave del contacto que quiere modificar\")\n",
    "        valor = input(\"Ingrese un valor a la clave\")\n",
    "        if nombre in agenda_contactos and llave in agenda_contactos.values():\n",
    "            datos[llave] =  valor\n",
    "            agenda_contactos[nombre] = datos\n",
    "            print(f\"Modificado el contacto {nombre} en la clave {llave} con el valor {valor}\\n\")\n",
    "        else:\n",
    "            print(\"Datos invalidos\")\n",
    "\n",
    "    elif opcion == \"4\":\n",
    "        print(\"Saliendo del programa, agenda finalizada\\n\")\n",
    "        print(agenda_contactos)\n",
    "        break\n",
    "\n",
    "    else: \n",
    "        print(\"dato invalido, recuerde solo seleccionar 1, 2, 3 o 4\\n\")"
   ]
  },
  {
   "cell_type": "markdown",
   "id": "1fafa270",
   "metadata": {},
   "source": [
    "Challenge 🤺\n",
    "\n",
    "Crear dos métodos para nuestro animal y ejecutar, debe ser algo específico de ese animal.\n",
    "\n",
    "Ejemplo: \"Cuando hablo, digo X\".\n",
    "\n",
    "Ejemplo: \"Cuando me muevo, hago X\"."
   ]
  },
  {
   "cell_type": "code",
   "execution_count": 28,
   "id": "d879c9d8",
   "metadata": {},
   "outputs": [
    {
     "name": "stdout",
     "output_type": "stream",
     "text": [
      "2 Miau,Miau Corre muy rapido\n"
     ]
    }
   ],
   "source": [
    "class Animal:\n",
    "    ojos = 2\n",
    "    patas = 4\n",
    "\n",
    "    def __init__(self,color,raza):\n",
    "        self.color = color\n",
    "        self.raza = raza\n",
    "    def maulla(self):\n",
    "        return 'Miau,Miau' \n",
    "    def corre(self):\n",
    "        return 'Corre muy rapido'      \n",
    "    \n",
    "gengibre = Animal('negro','ni idea')\n",
    "print(gengibre.ojos,gengibre.maulla(),gengibre.corre())"
   ]
  },
  {
   "cell_type": "markdown",
   "id": "17206720",
   "metadata": {},
   "source": [
    "Challenge 🤺\n",
    "\n",
    "Definir una clase madre que herede a sus clases hijas dos atributos de instancia. Mostrar ambos atributos en pantalla desde los objetos de las clases hijas.\n",
    "\n",
    "Observación: Editar las clases hijas para que no se inicialicen."
   ]
  },
  {
   "cell_type": "code",
   "execution_count": null,
   "id": "d5f9d032",
   "metadata": {},
   "outputs": [
    {
     "name": "stdout",
     "output_type": "stream",
     "text": [
      "Fanta naranja 500ml\n",
      "Pilsen 500ml 10% 24\n"
     ]
    }
   ],
   "source": [
    "class Bebidas:\n",
    "    medida = '500ml'\n",
    "    def __init__(self,marca,cantidad):\n",
    "        self.marca = marca\n",
    "        self.cantidad = cantidad\n",
    "def beber(self):\n",
    "    return 'Puede beberse'\n",
    "#Creacion de la clase Gaseosa que hereda del padre (Bebidas)\n",
    "class Gaseosa(Bebidas):\n",
    "    sabor = 'naranja'\n",
    "\n",
    "#Creacion del objeto de tipo gaseosa\n",
    "gaseaosa = Gaseosa('Fanta',12)\n",
    "\n",
    "#Creacion de la clase Cerveza que hereda del padre (Bebidas)\n",
    "class Cerveza(Bebidas):\n",
    "    alcohol = '10%'\n",
    "\n",
    "#Creacion del objeto de tipo cerveza\n",
    "cerveza = Cerveza('Pilsen',24)\n",
    "\n",
    "print(gaseaosa.marca, gaseaosa.sabor, gaseaosa.medida)\n",
    "print(cerveza.marca, cerveza.medida, cerveza.alcohol, cerveza.cantidad)\n"
   ]
  }
 ],
 "metadata": {
  "kernelspec": {
   "display_name": "Python 3",
   "language": "python",
   "name": "python3"
  },
  "language_info": {
   "codemirror_mode": {
    "name": "ipython",
    "version": 3
   },
   "file_extension": ".py",
   "mimetype": "text/x-python",
   "name": "python",
   "nbconvert_exporter": "python",
   "pygments_lexer": "ipython3",
   "version": "3.13.3"
  }
 },
 "nbformat": 4,
 "nbformat_minor": 5
}
