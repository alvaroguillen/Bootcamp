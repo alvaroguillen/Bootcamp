{
 "cells": [
  {
   "cell_type": "markdown",
   "id": "69b6706f",
   "metadata": {},
   "source": [
    "Challenge 1 🤺 - 10m\n",
    "\n",
    "Crear una función que imprima la variable palabra."
   ]
  },
  {
   "cell_type": "code",
   "execution_count": null,
   "id": "ea92e27e",
   "metadata": {},
   "outputs": [
    {
     "name": "stdout",
     "output_type": "stream",
     "text": [
      "La palabra es 'Hola' \n"
     ]
    }
   ],
   "source": [
    "#Se crea la funcion para imprimir una palabra proporcionada por el usuario\n",
    "#para ello la funcion recibe un parametro en este caso palabra\n",
    "def imprimir_variable_palabra(palabra):\n",
    "    print(f\"La palabra es '{palabra}' \")\n",
    "    \n",
    "imprimir_variable_palabra('Hola')    \n",
    "#Se le solicita la usuario que ingrese la palabra    \n",
    "#palabra = input('Ingrese una palabra')\n",
    "# Se llama a la función y se le proporciona el argumento a través de nuestra variable\n",
    "#imprimir_variable_palabra(palabra)"
   ]
  },
  {
   "cell_type": "markdown",
   "id": "f6326ae1",
   "metadata": {},
   "source": [
    "Challenge 2 🤺 - 20 min\n",
    "\n",
    "Crear una función que reciba dos letras (parámetros) y que verifique si son iguales:\n",
    "\n",
    "Si son iguales, imprimir \"Las letras son iguales\".\n",
    "\n",
    "De lo contrario, imprimir \"Las letras son diferentes\"."
   ]
  },
  {
   "cell_type": "code",
   "execution_count": 8,
   "id": "0b8df385",
   "metadata": {},
   "outputs": [
    {
     "name": "stdout",
     "output_type": "stream",
     "text": [
      "Las letras son iguales\n"
     ]
    }
   ],
   "source": [
    "def comparar_palabra(letra1,letra2):\n",
    "    if letra1.lower() == letra2.lower() :\n",
    "        print('Las letras son iguales')\n",
    "    else:\n",
    "       print('Las letras son diferentes')\n",
    "comparar_palabra('a','A')            "
   ]
  },
  {
   "cell_type": "markdown",
   "id": "450334f5",
   "metadata": {},
   "source": [
    "Challenge 3 🤺 - 20m\n",
    "\n",
    "Crear una función que reciba dos parámetros (una palabra y un número), y que retorne True si el número es igual a la cantidad de letras de la palabra. En caso contrario, que retorne False.\n",
    "\n",
    "Pista: cantidad de letras de una palabra en python"
   ]
  },
  {
   "cell_type": "code",
   "execution_count": null,
   "id": "71c83514",
   "metadata": {},
   "outputs": [
    {
     "name": "stdout",
     "output_type": "stream",
     "text": [
      "El largor de la palabra es igual al numero False\n"
     ]
    }
   ],
   "source": [
    "def comparar_numero_palabra(palabra,numero):\n",
    "    if len(palabra) == numero:\n",
    "        return True\n",
    "    else:\n",
    "        return False\n",
    "    \n",
    "palabra = input('Ingrese una palabra:')   \n",
    "numero = int(input('Ingrese un numero:'))\n",
    "resultado_comparacion = comparar_numero_palabra(palabra, numero)\n",
    "print(f\"El largor de la palabra es igual al numero {resultado_comparacion}\")   "
   ]
  },
  {
   "cell_type": "markdown",
   "id": "adbf7487",
   "metadata": {},
   "source": [
    "Challenge 5 🤺 - 25m\n",
    "\n",
    "Pedir al usuario que ingrese 1 palabra, luego convertir esa palabra a una lista con sus caracteres con list(). Agregar esa lista de caracteres a una lista llamada palabras_ingresadas. Repetir el proceso 3 veces. Cada vez que se agregue una lista de caracteres, imprimir la lista palabras_ingresadas.\n",
    "\n",
    "\n",
    "Ejemplo del resultado esperado:\n",
    "\n",
    "[['c', 'i', 'e', 'l', 'o']]\n",
    " # Al ingresar la primera palabra\n",
    "\n",
    "[['c', 'i', 'e', 'l', 'o'], ['c', 'a', 'l', 'o', 'r']]\n",
    " # Al ingresar la segunda palabra\n",
    "\n",
    "[['c', 'i', 'e', 'l', 'o'], ['c', 'a', 'l', 'o', 'r'], ['n', 'u', 'b', 'e', 's']]\n",
    " # Al ingresar la tercera palabra"
   ]
  },
  {
   "cell_type": "code",
   "execution_count": null,
   "id": "b1b36abe",
   "metadata": {},
   "outputs": [
    {
     "name": "stdout",
     "output_type": "stream",
     "text": [
      "[['d', 'u', 'l', 'c', 'e']]\n",
      "[['d', 'u', 'l', 'c', 'e'], ['m', 'a', 'i', 'z']]\n",
      "[['d', 'u', 'l', 'c', 'e'], ['m', 'a', 'i', 'z'], ['c', 'h', 'o', 'c', 'l', 'o']]\n"
     ]
    }
   ],
   "source": [
    "lista_de_palabras_ingresadas = []\n",
    "for i in range(3):\n",
    "    #Cuando el usuario ingresa la palab\n",
    "    # a lista.\n",
    "    palabra_ingresada = list(input('Ingrese una palabra:'))\n",
    "    #Se agrega la palabra a la lista \n",
    "    lista_de_palabras_ingresadas.append(palabra_ingresada)\n",
    "\n",
    "    print(lista_de_palabras_ingresadas)\n"
   ]
  },
  {
   "cell_type": "markdown",
   "id": "76618e18",
   "metadata": {},
   "source": [
    "Challenge 6 🤺 - 25m\n",
    "\n",
    "Dada la lista de ejemplo: \n",
    "\n",
    "lista = [['h', 'o', 'l', 'i', 's'], ['h', 'e', 'l', 'l', 'o'], ['h', 'a', 'l', 'l', 'o']]\n",
    "\n",
    "Crear una función que imprima una grilla (lista de listas), una línea por cada lista dentro de la lista principal.\n",
    "\n",
    "Ejemplo del resultado esperado:\n",
    "\n",
    "['h', 'o', 'l', 'i', 's']\n",
    "['h', 'e', 'l', 'l', 'o']\n",
    "['h', 'a', 'l', 'l', 'o']"
   ]
  },
  {
   "cell_type": "code",
   "execution_count": null,
   "id": "4fdd055e",
   "metadata": {},
   "outputs": [
    {
     "name": "stdout",
     "output_type": "stream",
     "text": [
      "['h', 'o', 'l', 'i', 's']\n",
      "['h', 'e', 'l', 'l', 'o']\n",
      "['h', 'a', 'l', 'l', 'o']\n"
     ]
    }
   ],
   "source": [
    "lista = [['h', 'o', 'l', 'i', 's'], ['h', 'e', 'l', 'l', 'o'], ['h', 'a', 'l', 'l', 'o']]\n",
    "#Grilla(lista de lista)\n",
    "def imprimir_grilla(lista):\n",
    "    for elemento in lista:\n",
    "        print(elemento)\n",
    "imprimir_grilla(lista)        "
   ]
  },
  {
   "cell_type": "code",
   "execution_count": null,
   "id": "03970c28",
   "metadata": {},
   "outputs": [],
   "source": []
  }
 ],
 "metadata": {
  "kernelspec": {
   "display_name": "Python 3",
   "language": "python",
   "name": "python3"
  },
  "language_info": {
   "codemirror_mode": {
    "name": "ipython",
    "version": 3
   },
   "file_extension": ".py",
   "mimetype": "text/x-python",
   "name": "python",
   "nbconvert_exporter": "python",
   "pygments_lexer": "ipython3",
   "version": "3.13.3"
  }
 },
 "nbformat": 4,
 "nbformat_minor": 5
}
