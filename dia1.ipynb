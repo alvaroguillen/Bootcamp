{
 "cells": [
  {
   "cell_type": "code",
   "execution_count": 3,
   "id": "004a2ef6",
   "metadata": {},
   "outputs": [
    {
     "name": "stdout",
     "output_type": "stream",
     "text": [
      "Hola Mundo\n"
     ]
    }
   ],
   "source": [
    "import this\n",
    "print(\"Hola Mundo\")"
   ]
  },
  {
   "cell_type": "code",
   "execution_count": null,
   "id": "c5855133",
   "metadata": {},
   "outputs": [
    {
     "name": "stdout",
     "output_type": "stream",
     "text": [
      "manzana\n"
     ]
    }
   ],
   "source": [
    "frutas = \"manzana\"\n",
    "print(frutas)"
   ]
  },
  {
   "cell_type": "markdown",
   "id": "0cb7f3a3",
   "metadata": {},
   "source": [
    "##Tipos de datos en python\n",
    "\n",
    "int - integer - 1 (Almacena un valor entero)\n",
    "\n",
    "float - 1.2 (Almacena un decimal)\n",
    "\n",
    "str - string - \"Hola\" o 'Hola' (Almacena una cadena de texto)\n",
    "\n",
    "boolean - true/false (Almacena solamente dos valores 'verdadero' o 'falso')\n",
    "alt flecha arriba o abajo - ayuda a mover las lineas de codigo"
   ]
  },
  {
   "cell_type": "markdown",
   "id": "eecc1d2f",
   "metadata": {},
   "source": [
    "Challenge 🤺 - 20m\n",
    "\n",
    "Suma: asignar dos números en dos variables diferentes cantidad_de_manzanas y cantidad_de_naranjas. Luego sumar ambas variables en cantidad_de_frutas. Imprimir la última variable.\n",
    "\n",
    "Resta: asignar un valor numérico a la variable frutas_vendidas. Luego, asignar la resta entre cantidad_de_frutas y frutas_vendidas a la variable frutas_restantes. Imprimir la última variable."
   ]
  },
  {
   "cell_type": "code",
   "execution_count": 15,
   "id": "994563d0",
   "metadata": {},
   "outputs": [
    {
     "name": "stdout",
     "output_type": "stream",
     "text": [
      "25\n"
     ]
    }
   ],
   "source": [
    "cantidad_de_manzanas = 10\n",
    "cantidad_de_naranjas = 15\n",
    "cantidad_de_frutas = cantidad_de_manzanas + cantidad_de_naranjas\n",
    "print(cantidad_de_frutas)"
   ]
  },
  {
   "cell_type": "code",
   "execution_count": 18,
   "id": "99446c08",
   "metadata": {},
   "outputs": [
    {
     "name": "stdout",
     "output_type": "stream",
     "text": [
      "12\n"
     ]
    }
   ],
   "source": [
    "frutas_vendidas = 13\n",
    "frutas_restantes = cantidad_de_frutas - frutas_vendidas\n",
    "print(frutas_restantes)"
   ]
  },
  {
   "cell_type": "markdown",
   "id": "964fc6e3",
   "metadata": {},
   "source": [
    "Challenge 🤺 - 15m\n",
    "\n",
    "Asignar el nombre y el apellido de tu compañera/o a las variables nombre y apellido. Luego, imprimir una frase, utilizando las variables.\n",
    "EJEMPLO: \"Hola. Me llamo Claudia Melgarejo. Mucho gusto.\""
   ]
  },
  {
   "cell_type": "code",
   "execution_count": 24,
   "id": "29c2d7c2",
   "metadata": {},
   "outputs": [
    {
     "name": "stdout",
     "output_type": "stream",
     "text": [
      "Hola,me llamo Francisco Lopez.Mucho gusto!!\n"
     ]
    }
   ],
   "source": [
    "nombre = input(\"Cual es tu nombre: \")#\"Gonzalo\"\n",
    "apellido = input(\"Cual es tu apellido: \")#\"Talavera\"\n",
    "# la 'f' significa format, ayuda a dar formato \n",
    "print(f\"Hola,me llamo {nombre} {apellido}.Mucho gusto!!\")"
   ]
  },
  {
   "cell_type": "markdown",
   "id": "fbbcfd4a",
   "metadata": {},
   "source": [
    "Challenge 🤺 - 10m\n",
    "\n",
    "Solicitar al usuario ingresar dos números y almacenarlos en dos variables. Luego, imprimir la suma de los dos números."
   ]
  },
  {
   "cell_type": "code",
   "execution_count": 29,
   "id": "8855ff78",
   "metadata": {},
   "outputs": [
    {
     "name": "stdout",
     "output_type": "stream",
     "text": [
      "<class 'int'>\n",
      "13\n"
     ]
    }
   ],
   "source": [
    "numero1 = input(\"Dame un numero\")\n",
    "numero2 = input(\"Dame otro numero\")\n",
    "suma = int(numero1) + int(numero2)\n",
    "print(type(suma))\n",
    "print(suma)"
   ]
  },
  {
   "cell_type": "code",
   "execution_count": 33,
   "id": "2fefcf85",
   "metadata": {},
   "outputs": [],
   "source": [
    "def preparar_sandwich():\n",
    "    print(\"Abrir el pan\")\n",
    "    print('agregar jamon')\n",
    "    print('agregar queso')\n",
    "    print('cerrar pan')\n",
    "    print('Listo!')"
   ]
  },
  {
   "cell_type": "code",
   "execution_count": 35,
   "id": "f4efe135",
   "metadata": {},
   "outputs": [
    {
     "name": "stdout",
     "output_type": "stream",
     "text": [
      "Abrir el pan\n",
      "agregar jamon\n",
      "agregar queso\n",
      "cerrar pan\n",
      "Listo!\n"
     ]
    }
   ],
   "source": [
    "preparar_sandwich()"
   ]
  },
  {
   "cell_type": "markdown",
   "id": "c2884d15",
   "metadata": {},
   "source": [
    "Challenge 🤺 - 10m\n",
    "\n",
    "Crear una función de un proceso que se les ocurra que tenga varios pasos.\n",
    "Ejecutar la función 3 veces."
   ]
  },
  {
   "cell_type": "code",
   "execution_count": 46,
   "id": "bbc724b9",
   "metadata": {},
   "outputs": [
    {
     "name": "stdout",
     "output_type": "stream",
     "text": [
      "- Prender fuego en la cocina\n",
      "- verter aceite en la sarten\n",
      "- poner la sarten en el fuego\n",
      "- esperar 2 minutos a que el aceite se caliente\n",
      "- romer la cantidad de huevos que desea en la sarten\n",
      "- agregar sal\n",
      "- Esperar que se cocine\n",
      "- Sacar el huevo enun plato\n",
      "- Huevo frito listo!!\n",
      "---------------------------------\n",
      "\n",
      "\n",
      "- Prender fuego en la cocina\n",
      "- verter aceite en la sarten\n",
      "- poner la sarten en el fuego\n",
      "- esperar 2 minutos a que el aceite se caliente\n",
      "- romer la cantidad de huevos que desea en la sarten\n",
      "- agregar sal\n",
      "- Esperar que se cocine\n",
      "- Sacar el huevo enun plato\n",
      "- Huevo frito listo!!\n",
      "---------------------------------\n",
      "\n",
      "\n",
      "- Prender fuego en la cocina\n",
      "- verter aceite en la sarten\n",
      "- poner la sarten en el fuego\n",
      "- esperar 2 minutos a que el aceite se caliente\n",
      "- romer la cantidad de huevos que desea en la sarten\n",
      "- agregar sal\n",
      "- Esperar que se cocine\n",
      "- Sacar el huevo enun plato\n",
      "- Huevo frito listo!!\n",
      "---------------------------------\n",
      "\n",
      "\n"
     ]
    }
   ],
   "source": [
    "def freir_huevo():\n",
    "    print(\"- Prender fuego en la cocina\")\n",
    "    print(\"- verter aceite en la sarten\")\n",
    "    print(\"- poner la sarten en el fuego\")\n",
    "    print(\"- esperar 2 minutos a que el aceite se caliente\")\n",
    "    print(\"- romer la cantidad de huevos que desea en la sarten\")\n",
    "    print(\"- agregar sal\")\n",
    "    print(\"- Esperar que se cocine\")\n",
    "    print(\"- Sacar el huevo enun plato\")\n",
    "    print(\"- Huevo frito listo!!\")\n",
    "    print(\"---------------------------------\")\n",
    "    print(\"\\n\")\n",
    "    #print(\" \")\n",
    "\n",
    "freir_huevo() \n",
    "freir_huevo() \n",
    "freir_huevo()\n",
    "  "
   ]
  },
  {
   "cell_type": "code",
   "execution_count": 37,
   "id": "7eb7ac45",
   "metadata": {},
   "outputs": [
    {
     "data": {
      "text/plain": [
       "15"
      ]
     },
     "execution_count": 37,
     "metadata": {},
     "output_type": "execute_result"
    }
   ],
   "source": [
    "#Definimos la funcion suma\n",
    "def suma(num1,num2):\n",
    "    resultado = num1 + num2\n",
    "    return resultado\n",
    "\n",
    "#Obtenenmos los valores del usuario \n",
    "numero1 = int(input(\"Ingrese un numero: \"))\n",
    "numero2 = int(input(\"Ingrese otro numero: \"))\n",
    "\n",
    "#Llamamos a la funcion y le pasamos el parametro\n",
    "suma(numero1,numero2)"
   ]
  },
  {
   "cell_type": "markdown",
   "id": "cad4fc9a",
   "metadata": {},
   "source": [
    "Challenge 🤺 - 15m\n",
    "\n",
    "Escribir una funcion que nos pregunte las caracteriticas de un elemento a comprar e imprima el elemento con sus caracteristicas."
   ]
  },
  {
   "cell_type": "code",
   "execution_count": 53,
   "id": "ba879a15",
   "metadata": {},
   "outputs": [
    {
     "name": "stdout",
     "output_type": "stream",
     "text": [
      "La marca del vehiculo es toyota, de color blanco, su motor tiene una capacidad de 1200\n"
     ]
    }
   ],
   "source": [
    "def comprar_auto(color,marca,capacidad_del_motor):\n",
    "    print(f'La marca del vehiculo es {marca}, de color {color}, su motor tiene una capacidad de {capacidad_del_motor}')\n",
    "\n",
    "\n",
    "    #Obtenenmos los valores del usuario \n",
    "color = input(\"Ingrese el color: \")\n",
    "marca = input(\"Ingrese la marca: \")\n",
    "capacidad = input(\"Ingrese la capacidad del motor: \")\n",
    "#numero2 = int(input(\"Ingrese otro numero: \"))\n",
    "\n",
    "#Llamamos a la funcion y le pasamos el parametro\n",
    "comprar_auto(color,marca,capacidad)"
   ]
  }
 ],
 "metadata": {
  "kernelspec": {
   "display_name": "Python 3",
   "language": "python",
   "name": "python3"
  },
  "language_info": {
   "codemirror_mode": {
    "name": "ipython",
    "version": 3
   },
   "file_extension": ".py",
   "mimetype": "text/x-python",
   "name": "python",
   "nbconvert_exporter": "python",
   "pygments_lexer": "ipython3",
   "version": "3.13.3"
  }
 },
 "nbformat": 4,
 "nbformat_minor": 5
}
