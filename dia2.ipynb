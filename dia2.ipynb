{
 "cells": [
  {
   "cell_type": "markdown",
   "id": "2db226f2",
   "metadata": {},
   "source": [
    "Challenge🤺 - 20m\n",
    "\n",
    "Escribe un programa que pregunte al usuario por su edad y determine si tiene edad suficiente para comprar y consumir alcohol.\n",
    "Si el usuario tiene mas de 18 pero menos de 21 impirmir \"Podes tomar pero no comprar\"\n",
    "Si el usuario tiene menos de 18 imprimir \"Juguito nomas\"\n",
    "Si el usuario tiene mas de 21 imprimir \"Hace lo que quieras\""
   ]
  },
  {
   "cell_type": "code",
   "execution_count": 14,
   "id": "56dc930d",
   "metadata": {},
   "outputs": [
    {
     "name": "stdout",
     "output_type": "stream",
     "text": [
      "Hace lo que quieras\n"
     ]
    }
   ],
   "source": [
    "#Le pedimos al usuario que ingrese la edad haciendo uso del print \n",
    "edad = int(input(\"Proporcione su edad: \"))\n",
    "if(edad <= 18):\n",
    "        print(\"Juguito nomas\") \n",
    "elif(edad <21):\n",
    "          print(\"Podes tomar pero no comprar\") \n",
    "else:\n",
    "        print(\"Hace lo que quieras\")\n",
    "\n",
    "    \n"
   ]
  },
  {
   "cell_type": "code",
   "execution_count": null,
   "id": "a951e1f6",
   "metadata": {},
   "outputs": [
    {
     "name": "stdout",
     "output_type": "stream",
     "text": [
      "Juguito nomas\n"
     ]
    }
   ],
   "source": [
    "#Funcion que compara si la edad de la persona es \n",
    "# valida para beber alcohol \n",
    "def comparar_edad(edad):\n",
    "    if(edad <= 18):\n",
    "        print(\"Juguito nomas\") \n",
    "    elif(edad <=21):\n",
    "          print(\"Podes tomar pero no comprar\") \n",
    "    else:\n",
    "        print(\"Hace lo que quieras\")\n",
    "\n",
    "#Le pedimos al usuario que ingrese la edad haciendo uso del print     \n",
    "edad = int(input(\"Proporcione su edad: \"))\n",
    "#Llamamos a la funcion\n",
    "comparar_edad(edad)"
   ]
  },
  {
   "cell_type": "markdown",
   "id": "925e781f",
   "metadata": {},
   "source": [
    "Challenge 🤺 - 30m\n",
    "\n",
    "Escribir un programa en el que se pregunte al usuario por una temperatura (en grados Celsius), imprima la temperatura escrita, y luego clasificar la temperatura ingresada en los siguientes niveles:\n",
    "\n",
    "Entre -10 y 18 grados, que imprima \"Fresquete\".\n",
    "Entre 19 y 30 grados, que imprima \"Calor'i\".\n",
    "Entre 31 y 45 grados, que imprima \"Hakuuuuuu\".\n",
    "Para todo lo demás, imprimir \"Ñamano mba'e!\"."
   ]
  },
  {
   "cell_type": "code",
   "execution_count": null,
   "id": "62ff3377",
   "metadata": {},
   "outputs": [
    {
     "name": "stdout",
     "output_type": "stream",
     "text": [
      "Hakuuuuuu\n"
     ]
    }
   ],
   "source": [
    "def temperatura(grados):\n",
    "    if(grados <= -10 and grados <= 18):\n",
    "        print(\"Fresquete\")\n",
    "    elif(grados >= 19 and grados <= 30):\n",
    "        print(\"Calor'i\")\n",
    "    elif(grados >= 31 and grados <= 45):\n",
    "        print(\"Hakuuuuuu\") \n",
    "    else:\n",
    "        print(\"Ñamano mba'e!\") \n",
    "\n",
    "grados = int(input(\"Ingrese la temperatura\")) \n",
    "temperatura(grados)               "
   ]
  },
  {
   "cell_type": "markdown",
   "id": "2ef31a00",
   "metadata": {},
   "source": [
    "Challenge 🤺 - 20m\n",
    "\n",
    "Escribir un programa que almacene una contraseña en una variable, y pregunte al usuario por la contraseña hasta que introduzca la contraseña correcta.\n",
    "\n",
    "Cuando el usuario ingrese la contrasena correcta, imprimir un mensaje secreto."
   ]
  },
  {
   "cell_type": "code",
   "execution_count": 95,
   "id": "025fae95",
   "metadata": {},
   "outputs": [
    {
     "name": "stdout",
     "output_type": "stream",
     "text": [
      "Contraseña incorrecta\n",
      "Contraseña incorrecta\n",
      "Contraseña correcta!!\n",
      "El mensaje secreto es Coffe Time!!\n"
     ]
    }
   ],
   "source": [
    "password = '1234f'\n",
    "password_ingresado = 0\n",
    "while password_ingresado != password:\n",
    "    password_ingresado = input(\"Ingrese la contraseña: \")\n",
    "\n",
    "    if password_ingresado == password:\n",
    "        print(\"Contraseña correcta!!\")\n",
    "        print(\"El mensaje secreto es Coffe Time!!\")\n",
    "        #break\n",
    "    else:\n",
    "       print(\"Contraseña incorrecta\") "
   ]
  },
  {
   "cell_type": "markdown",
   "id": "3d93583a",
   "metadata": {},
   "source": [
    "Challenge 🤺 - 20m\n",
    "\n",
    "Crear una lista de 5 elementos. Luego, seguir los siguientes pasos.\n",
    "\n",
    "Agregar un elemento al final de la lista.\n",
    "\n",
    "Modificar el segundo elemento.\n",
    "\n",
    "Eliminar el tercer elemento."
   ]
  },
  {
   "cell_type": "code",
   "execution_count": null,
   "id": "d4d09771",
   "metadata": {},
   "outputs": [
    {
     "name": "stdout",
     "output_type": "stream",
     "text": [
      "['Juan', 'Jose', 'Bruno', 'Alberto', 'Diego']\n",
      "['Juan', 'Jose', 'Bruno', 'Alberto', 'Diego', 'Mateo']\n",
      "['Juan', 'Marcos', 'Bruno', 'Alberto', 'Diego', 'Mateo']\n",
      "['Juan', 'Marcos', 'Alberto', 'Diego', 'Mateo']\n",
      "5\n",
      "\n",
      "\n",
      "Juan\n",
      "Marcos\n",
      "Alberto\n",
      "Diego\n",
      "Mateo\n"
     ]
    }
   ],
   "source": [
    "lista_personas = ['Juan','Jose','Bruno','Alberto','Diego']\n",
    "print(lista_personas)\n",
    "\n",
    "#Agregar un nuevo elemento a la lista\n",
    "lista_personas.append('Mateo')\n",
    "print(lista_personas)\n",
    "\n",
    "#Modificar el segundo elemento de la lista\n",
    "lista_personas[1] = 'Marcos'\n",
    "print(lista_personas)\n",
    "\n",
    "#Eliminar el tercer elemento de la lista por el indice\n",
    "lista_personas.pop(2)\n",
    "print(lista_personas)\n",
    "print(len(lista_personas))\n",
    "\n",
    "print(\"\\n\")\n",
    "for item in lista_personas:\n",
    "    print(item)"
   ]
  },
  {
   "cell_type": "markdown",
   "id": "82a906f7",
   "metadata": {},
   "source": [
    "Challenge 🤺 - 20m\n",
    "\n",
    "Escribir un programa que itere en un rango de 10 veces. Por cada iteracion multiplicar el iterador por dos e imprimir el resultado."
   ]
  },
  {
   "cell_type": "code",
   "execution_count": 15,
   "id": "1dcb1b67",
   "metadata": {},
   "outputs": [
    {
     "name": "stdout",
     "output_type": "stream",
     "text": [
      "2 x 0 = 0\n",
      "2 x 1 = 2\n",
      "2 x 2 = 4\n",
      "2 x 3 = 6\n",
      "2 x 4 = 8\n",
      "2 x 5 = 10\n",
      "2 x 6 = 12\n",
      "2 x 7 = 14\n",
      "2 x 8 = 16\n",
      "2 x 9 = 18\n"
     ]
    }
   ],
   "source": [
    "\n",
    "for numero in range(10):\n",
    "    print(f\"2 x {numero} = {numero*2}\")"
   ]
  },
  {
   "cell_type": "code",
   "execution_count": 16,
   "id": "aba903f2",
   "metadata": {},
   "outputs": [
    {
     "name": "stdout",
     "output_type": "stream",
     "text": [
      "2 x 1 = 2\n",
      "2 x 2 = 4\n",
      "2 x 3 = 6\n",
      "2 x 4 = 8\n",
      "2 x 5 = 10\n",
      "2 x 6 = 12\n",
      "2 x 7 = 14\n",
      "2 x 8 = 16\n",
      "2 x 9 = 18\n",
      "2 x 10 = 20\n"
     ]
    }
   ],
   "source": [
    "for numero in range(1,11):\n",
    "    print(f\"2 x {numero} = {numero*2}\")"
   ]
  },
  {
   "cell_type": "markdown",
   "id": "64f46ade",
   "metadata": {},
   "source": [
    "Challenge 🤺 - 20m\n",
    "\n",
    "Recorrer los elementos de una lista de marcas e imprimir cada marca solamente si tiene 6 letras o más."
   ]
  },
  {
   "cell_type": "code",
   "execution_count": 19,
   "id": "f98987fb",
   "metadata": {},
   "outputs": [
    {
     "name": "stdout",
     "output_type": "stream",
     "text": [
      "adidas\n",
      "caterpillar\n"
     ]
    }
   ],
   "source": [
    "lista_marcas = ['nike','adidas','caterpillar','vans','puma']\n",
    "for marca in lista_marcas:\n",
    "    if len(marca) >=6:\n",
    "        print(marca)"
   ]
  },
  {
   "cell_type": "markdown",
   "id": "2e882f2f",
   "metadata": {},
   "source": [
    "Challenge 🤺 - 15m\n",
    "\n",
    "Solicitar al usuario que ingrese una frase.\n",
    "\n",
    "Imprimir un mensaje cada vez que se encuentre una letra \"o\"."
   ]
  },
  {
   "cell_type": "code",
   "execution_count": null,
   "id": "02eeaccc",
   "metadata": {},
   "outputs": [
    {
     "name": "stdout",
     "output_type": "stream",
     "text": [
      "Letra o aparece 1!!\n",
      "Letra o aparece 2!!\n",
      "Omo\n"
     ]
    }
   ],
   "source": [
    "frase = input('Ingrese una frase: ')\n",
    "contador = 0\n",
    "for letra in frase:\n",
    "    if letra.lower() == 'o':\n",
    "        contador +=1\n",
    "        print(f\"Letra O aparece {contador}!!\")\n",
    "print(frase)        "
   ]
  },
  {
   "cell_type": "code",
   "execution_count": 13,
   "id": "9f47c66e",
   "metadata": {},
   "outputs": [
    {
     "name": "stdout",
     "output_type": "stream",
     "text": [
      "--------------------------\n",
      "Con contador de palabras\n",
      "--------------------------\n",
      "* banana\n",
      "* naranja\n",
      "* pomelo\n",
      "* banana\n",
      "\n",
      "\n",
      "--------------------------\n",
      "Sin contador de palabras\n",
      "--------------------------\n",
      "* banana\n",
      "* naranja\n",
      "* pomelo\n",
      "* pera\n",
      "* banana\n"
     ]
    }
   ],
   "source": [
    "#Este algoritmo hace lo siguiente, solicita al usuario que ingrese 5 palabras\n",
    "#en una lista, luego se crea un funcion en donde se pasa a recorrer esa lista\n",
    "#y contar cada letra e imprimir dicha palabra en el caso de que tenga 6 letras o mas\n",
    "\n",
    "#Se crea una lista vacia\n",
    "palabras = []\n",
    "\n",
    "#Cargar las palabras en la lista\n",
    "for i in range(5):\n",
    "    palabra_ingresada = input(\"Ingrese una palabra: \")\n",
    "    palabras.append(palabra_ingresada)\n",
    "\n",
    "#Se crea una funcion que cuente las palabras\n",
    "def contar_palabra(lista_palabras):\n",
    "    #Este for se encarga de recorrer la lista\n",
    "    print('--------------------------')\n",
    "    print(\"Con contador de palabras\")\n",
    "    print('--------------------------')\n",
    "    for palabra in lista_palabras:\n",
    "        #El metodo len es el encargado de contar las letras\n",
    "        if len(palabra) >= 6:\n",
    "            print(f'* {palabra}') \n",
    "\n",
    "#Se llama a la funcion ya con el argumento proporcionado en este caso palabras\n",
    "contar_palabra(palabras)\n",
    "\n",
    "print(\"\\n\")\n",
    "print('--------------------------')\n",
    "print(\"Sin contador de palabras\")\n",
    "print('--------------------------')\n",
    "for palabra in palabras:\n",
    "        print(f'* {palabra}') "
   ]
  },
  {
   "cell_type": "code",
   "execution_count": null,
   "id": "53c64716",
   "metadata": {},
   "outputs": [],
   "source": [
    "#Este algoritmo se encarga de pedirle al usuario que proporcione colores\n",
    "#en la lista y luego las imprime\n",
    "\n",
    "#Se crea una lista de colores\n",
    "colores = []\n",
    "#Este for se utiliza para cargar los colores a la lista\n",
    "for i in range(5):\n",
    "    color_ingresado = input(\"Ingrese un color: \")\n",
    "    colores.append(color_ingresado)\n",
    "#Este for se encarga de imprimir la lista\n",
    "for item in colores:\n",
    "    print(item)"
   ]
  }
 ],
 "metadata": {
  "kernelspec": {
   "display_name": "Python 3",
   "language": "python",
   "name": "python3"
  },
  "language_info": {
   "codemirror_mode": {
    "name": "ipython",
    "version": 3
   },
   "file_extension": ".py",
   "mimetype": "text/x-python",
   "name": "python",
   "nbconvert_exporter": "python",
   "pygments_lexer": "ipython3",
   "version": "3.13.3"
  }
 },
 "nbformat": 4,
 "nbformat_minor": 5
}
