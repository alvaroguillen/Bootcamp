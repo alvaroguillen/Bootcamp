{
 "cells": [
  {
   "cell_type": "code",
   "execution_count": null,
   "id": "af4a8c06",
   "metadata": {},
   "outputs": [],
   "source": [
    "# Challenge 1: \n",
    "# Registro de Tareas con Diccionarios Crea un programa \n",
    "# que gestione las tareas de una persona. \n",
    "# Debe usar un diccionario para almacenar las tareas \n",
    "# con la siguiente estructura: \n",
    "# ● tarea: nombre de la tarea. \n",
    "# ● estado: estado de la tarea (pendiente, en progreso, completada).\n",
    "#  El programa debe permitir al usuario: \n",
    "# 1. Agregar una tarea nueva. \n",
    "# 2. Modificar el estado de una tarea. \n",
    "# 3. Eliminar una tarea. \n",
    "# 4. Mostrar todas las tareas y su estado."
   ]
  },
  {
   "cell_type": "code",
   "execution_count": 1,
   "id": "6972e9fa",
   "metadata": {},
   "outputs": [
    {
     "name": "stdout",
     "output_type": "stream",
     "text": [
      "Elija una opcion:\n",
      "1.Agregar una tarea nueva\n",
      "2.Modificar el estado de una tarea\n",
      "3.Eliminar una tarea\n",
      "4.Salir del Sistema\n",
      "\n",
      "La opcion ingresada no es valida, proporcione otro valor\n",
      "Elija una opcion:\n",
      "1.Agregar una tarea nueva\n",
      "2.Modificar el estado de una tarea\n",
      "3.Eliminar una tarea\n",
      "4.Salir del Sistema\n",
      "\n"
     ]
    }
   ],
   "source": [
    "gestion_tareas = {}\n",
    "\n",
    "tarea = {}\n",
    "while True:\n",
    "    print('Elija una opcion:')\n",
    "    print('1.Agregar una tarea nueva')\n",
    "    print('2.Modificar el estado de una tarea')\n",
    "    print('3.Eliminar una tarea')\n",
    "    #print('4.Mostrar todas las tareas y su estado')\n",
    "    print('4.Salir del Sistema\\n')\n",
    "    opcion = input('Que accion desea realizar? ')\n",
    "\n",
    "    if opcion == '1':\n",
    "        nombre_tarea = input(\"Ingrese la tarea: \")\n",
    "        clave = 'estado'\n",
    "        valor = input(\"Ingrese el estado (valor) (pendiente, en progreso, completada): \")\n",
    "        tarea[clave] = valor\n",
    "        gestion_tareas[nombre_tarea] = tarea\n",
    "        print(gestion_tareas)\n",
    "\n",
    "    elif opcion == '2':\n",
    "        gestion_tareas.keys()\n",
    "        nombre_tarea = input(\"Ingrese la tarea: \")\n",
    "        clave = 'estado'\n",
    "        valor = input(\"Ingrese el estado (valor) (pendiente, en progreso, completada): \")\n",
    "        tarea[clave] = valor\n",
    "        gestion_tareas[nombre_tarea] = tarea\n",
    "        print(gestion_tareas)\n",
    "\n",
    "    elif opcion == '3':\n",
    "        gestion_tareas.items()\n",
    "        nombre_tarea = input(\"Ingrese la tarea: \")\n",
    "        del gestion_tareas[nombre_tarea]\n",
    "        print(gestion_tareas)\n",
    "\n",
    "    elif opcion == '4':\n",
    "        break\n",
    "\n",
    "    else:\n",
    "        print(\"La opcion ingresada no es valida, proporcione otro valor\") "
   ]
  },
  {
   "cell_type": "markdown",
   "id": "cfcf45cb",
   "metadata": {},
   "source": [
    "Challenge 6:\n",
    "\n",
    " Acumulador de Números Escribe una función llamada acumulador() que reciba un número n como parámetro y devuelva la suma de todos los números desde 1 hasta n."
   ]
  },
  {
   "cell_type": "code",
   "execution_count": 23,
   "id": "5aefe1e2",
   "metadata": {},
   "outputs": [
    {
     "name": "stdout",
     "output_type": "stream",
     "text": [
      "15\n"
     ]
    }
   ],
   "source": [
    "def acumulador(numero):\n",
    "    \n",
    "    suma = 0\n",
    "    for i in range(1,numero + 1):\n",
    "         #resultado = i \n",
    "         suma += i\n",
    "         #print(f'{i} + {i} = {suma}')\n",
    "    print(suma) \n",
    "\n",
    "\n",
    "numero = int(input('Ingrese un numero'))\n",
    "acumulador(numero)"
   ]
  },
  {
   "cell_type": "markdown",
   "id": "72c02c17",
   "metadata": {},
   "source": [
    "Challenge 5:\n",
    "\n",
    " Multiplicar una Lista de Números Escribe una función llamada multiplicar_lista() que reciba una lista de números como parámetro y devuelva el resultado de multiplicar todos los elementos de la lista."
   ]
  },
  {
   "cell_type": "code",
   "execution_count": 30,
   "id": "1fc2d967",
   "metadata": {},
   "outputs": [
    {
     "name": "stdout",
     "output_type": "stream",
     "text": [
      "2\n"
     ]
    }
   ],
   "source": [
    "def multiplicar_lista(lista_numero):\n",
    "    resultado = 1\n",
    "    for numero in lista_numero:\n",
    "        resultado *= numero\n",
    "    print(resultado)\n",
    "\n",
    "numero = int(input('Ingrese la cantidad de numero que desea guardar: '))\n",
    "lista_numero = []\n",
    "for i in range(numero):\n",
    "    elemento = int(input('Ingrese un numero '))\n",
    "    lista_numero.append(elemento)\n",
    "\n",
    "multiplicar_lista(lista_numero)    "
   ]
  },
  {
   "cell_type": "markdown",
   "id": "389f4e8e",
   "metadata": {},
   "source": [
    "Challenge 2:\n",
    "\n",
    " Adivina el Número Crea un juego simple en el que el usuario tiene que adivinar un número secreto. El usuario puede hacer 3 intentos. Cada vez que falle, el programa debe decir si el número secreto es mayor o menor al ingresado . Si el usuario adivina, debe mostrar \"¡Felicidades! Adivinaste\"."
   ]
  },
  {
   "cell_type": "code",
   "execution_count": 46,
   "id": "0a805908",
   "metadata": {},
   "outputs": [
    {
     "name": "stdout",
     "output_type": "stream",
     "text": [
      "Bienvenido al juego, adivina el numero secreto\n",
      "El numero 4 es menor que el numero secreto\n",
      "Te quedan 2 intentos\n",
      "\n",
      "¡Felicidades! Adivinaste\n",
      "El numero secreto es 5\n"
     ]
    }
   ],
   "source": [
    "numero_secreto = 5\n",
    "print('Bienvenido al juego, adivina el numero secreto')\n",
    "intentos = 3\n",
    "while intentos > 0:\n",
    "    numero = int(input('Ingrese el numero'))\n",
    "    if numero < numero_secreto:\n",
    "        print(f'El numero {numero} es menor que el numero secreto')\n",
    "    elif numero > numero_secreto:\n",
    "        print(f'El numero {numero} es mayor que el numero secreto')\n",
    "    else:\n",
    "       print(\"¡Felicidades! Adivinaste\")   \n",
    "       print(f'El numero secreto es {numero_secreto}') \n",
    "       break\n",
    "    intentos -= 1 \n",
    "    print(f'Te quedan {intentos} intentos\\n')    \n",
    "if intentos == 0:\n",
    "    print(f'Te quedaste sin intentos')  \n",
    "    print(f'El numero secreto era {numero_secreto}')  \n",
    "   "
   ]
  }
 ],
 "metadata": {
  "kernelspec": {
   "display_name": "Python 3",
   "language": "python",
   "name": "python3"
  },
  "language_info": {
   "codemirror_mode": {
    "name": "ipython",
    "version": 3
   },
   "file_extension": ".py",
   "mimetype": "text/x-python",
   "name": "python",
   "nbconvert_exporter": "python",
   "pygments_lexer": "ipython3",
   "version": "3.13.3"
  }
 },
 "nbformat": 4,
 "nbformat_minor": 5
}
